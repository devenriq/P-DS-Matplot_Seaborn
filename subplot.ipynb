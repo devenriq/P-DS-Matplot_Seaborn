{
 "cells": [
  {
   "cell_type": "code",
   "execution_count": 1,
   "metadata": {},
   "outputs": [],
   "source": [
    "import matplotlib.pyplot as plt\n",
    "import numpy as np"
   ]
  },
  {
   "cell_type": "code",
   "execution_count": 4,
   "metadata": {},
   "outputs": [],
   "source": [
    "x = np.linspace(0,5,11)\n",
    "y = x**3"
   ]
  },
  {
   "cell_type": "code",
   "execution_count": 12,
   "metadata": {},
   "outputs": [
    {
     "data": {
      "text/plain": [
       "(array([5., 1., 1., 1., 0., 1., 0., 1., 0., 1.]),\n",
       " array([  0. ,  12.5,  25. ,  37.5,  50. ,  62.5,  75. ,  87.5, 100. ,\n",
       "        112.5, 125. ]),\n",
       " <BarContainer object of 10 artists>)"
      ]
     },
     "execution_count": 12,
     "metadata": {},
     "output_type": "execute_result"
    },
    {
     "data": {
      "image/png": "[encoded data removed]",
      "text/plain": [
       "<Figure size 432x288 with 2 Axes>"
      ]
     },
     "metadata": {
      "needs_background": "light"
     },
     "output_type": "display_data"
    }
   ],
   "source": [
    "plt.subplot(1,2,1)\n",
    "plt.plot(x,y,'r--')\n",
    "plt.subplot(1,2,2)\n",
    "plt.hist(y)\n"
   ]
  },
  {
   "cell_type": "code",
   "execution_count": 16,
   "metadata": {},
   "outputs": [
    {
     "data": {
      "text/plain": [
       "([<matplotlib.patches.Wedge at 0x7f3bbf1fc1c0>,\n",
       "  <matplotlib.patches.Wedge at 0x7f3bbf1fc6a0>,\n",
       "  <matplotlib.patches.Wedge at 0x7f3bbf1fcb80>,\n",
       "  <matplotlib.patches.Wedge at 0x7f3bbf2070a0>,\n",
       "  <matplotlib.patches.Wedge at 0x7f3bbf207580>,\n",
       "  <matplotlib.patches.Wedge at 0x7f3bbf207a60>,\n",
       "  <matplotlib.patches.Wedge at 0x7f3bbf207f40>,\n",
       "  <matplotlib.patches.Wedge at 0x7f3bbf215460>,\n",
       "  <matplotlib.patches.Wedge at 0x7f3bbf215940>,\n",
       "  <matplotlib.patches.Wedge at 0x7f3bbf215e20>,\n",
       "  <matplotlib.patches.Wedge at 0x7f3bbf1fc130>],\n",
       " [Text(1.1, 0.0, ''),\n",
       "  Text(1.0999994067856846, 0.0011423971035024268, ''),\n",
       "  Text(1.099940679096308, 0.011423767730182091, ''),\n",
       "  Text(1.0987989595507275, 0.05138916705141844, ''),\n",
       "  Text(1.0890461354795729, 0.15484997512756732, ''),\n",
       "  Text(1.037934335718111, 0.36426956328714066, ''),\n",
       "  Text(0.8472003690359291, 0.7016063958555293, ''),\n",
       "  Text(0.3235808782059149, 1.0513303074008136, ''),\n",
       "  Text(-0.6114240091160764, 0.9144182200046237, ''),\n",
       "  Text(-1.0484329599233144, -0.33284880733816363, ''),\n",
       "  Text(0.5582237985495773, -0.9478323642569297, '')])"
      ]
     },
     "execution_count": 16,
     "metadata": {},
     "output_type": "execute_result"
    },
    {
     "data": {
      "image/png": "[encoded data removed]",
      "text/plain": [
       "<Figure size 432x288 with 2 Axes>"
      ]
     },
     "metadata": {
      "needs_background": "light"
     },
     "output_type": "display_data"
    }
   ],
   "source": [
    "plt.subplot(2,1,1)\n",
    "plt.plot(x,y,'r--')\n",
    "plt.plot(y,x,'b.')\n",
    "\n",
    "plt.subplot(2,1,2)\n",
    "plt.pie(y)\n"
   ]
  }
 ],
 "metadata": {
  "kernelspec": {
   "display_name": "Python 3.9.12 ('base')",
   "language": "python",
   "name": "python3"
  },
  "language_info": {
   "codemirror_mode": {
    "name": "ipython",
    "version": 3
   },
   "file_extension": ".py",
   "mimetype": "text/x-python",
   "name": "python",
   "nbconvert_exporter": "python",
   "pygments_lexer": "ipython3",
   "version": "3.9.12"
  },
  "orig_nbformat": 4,
  "vscode": {
   "interpreter": {
    "hash": "1d90b4029a92d50c14fc62c13e9955d5fce7e2135e1fda58e031855d632bff19"
   }
  }
 },
 "nbformat": 4,
 "nbformat_minor": 2
}
